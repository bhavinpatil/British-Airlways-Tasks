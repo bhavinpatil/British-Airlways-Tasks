{
 "cells": [
  {
   "cell_type": "code",
   "execution_count": 1,
   "id": "e42a4149",
   "metadata": {},
   "outputs": [],
   "source": [
    "import pandas as pd"
   ]
  },
  {
   "cell_type": "code",
   "execution_count": 2,
   "id": "b569c12e",
   "metadata": {},
   "outputs": [],
   "source": [
    "data = pd.read_csv('data/processed_data.csv')"
   ]
  },
  {
   "cell_type": "code",
   "execution_count": 3,
   "id": "3e2b73c5",
   "metadata": {},
   "outputs": [
    {
     "data": {
      "text/html": [
       "<div>\n",
       "<style scoped>\n",
       "    .dataframe tbody tr th:only-of-type {\n",
       "        vertical-align: middle;\n",
       "    }\n",
       "\n",
       "    .dataframe tbody tr th {\n",
       "        vertical-align: top;\n",
       "    }\n",
       "\n",
       "    .dataframe thead th {\n",
       "        text-align: right;\n",
       "    }\n",
       "</style>\n",
       "<table border=\"1\" class=\"dataframe\">\n",
       "  <thead>\n",
       "    <tr style=\"text-align: right;\">\n",
       "      <th></th>\n",
       "      <th>reviews</th>\n",
       "    </tr>\n",
       "  </thead>\n",
       "  <tbody>\n",
       "    <tr>\n",
       "      <th>0</th>\n",
       "      <td>verified british airways confirmed worst airli...</td>\n",
       "    </tr>\n",
       "    <tr>\n",
       "      <th>1</th>\n",
       "      <td>worst ba experience supposed fly italy  septe...</td>\n",
       "    </tr>\n",
       "    <tr>\n",
       "      <th>2</th>\n",
       "      <td>daughter denied boarding business class fligh...</td>\n",
       "    </tr>\n",
       "    <tr>\n",
       "      <th>3</th>\n",
       "      <td>despite boarding usual free lhr groups  calle...</td>\n",
       "    </tr>\n",
       "    <tr>\n",
       "      <th>4</th>\n",
       "      <td>verified flight cancelled crew th september  p...</td>\n",
       "    </tr>\n",
       "  </tbody>\n",
       "</table>\n",
       "</div>"
      ],
      "text/plain": [
       "                                             reviews\n",
       "0  verified british airways confirmed worst airli...\n",
       "1   worst ba experience supposed fly italy  septe...\n",
       "2   daughter denied boarding business class fligh...\n",
       "3   despite boarding usual free lhr groups  calle...\n",
       "4  verified flight cancelled crew th september  p..."
      ]
     },
     "execution_count": 3,
     "metadata": {},
     "output_type": "execute_result"
    }
   ],
   "source": [
    "data.head()"
   ]
  },
  {
   "cell_type": "code",
   "execution_count": 4,
   "id": "7dda99d6",
   "metadata": {},
   "outputs": [
    {
     "data": {
      "text/plain": [
       "reviews    0\n",
       "dtype: int64"
      ]
     },
     "execution_count": 4,
     "metadata": {},
     "output_type": "execute_result"
    }
   ],
   "source": [
    "data.isna().sum()"
   ]
  },
  {
   "cell_type": "code",
   "execution_count": 5,
   "id": "4e046e95",
   "metadata": {},
   "outputs": [],
   "source": [
    "data = data[[\"reviews\"]]"
   ]
  },
  {
   "cell_type": "code",
   "execution_count": 6,
   "id": "6dc48953",
   "metadata": {},
   "outputs": [
    {
     "data": {
      "text/html": [
       "<div>\n",
       "<style scoped>\n",
       "    .dataframe tbody tr th:only-of-type {\n",
       "        vertical-align: middle;\n",
       "    }\n",
       "\n",
       "    .dataframe tbody tr th {\n",
       "        vertical-align: top;\n",
       "    }\n",
       "\n",
       "    .dataframe thead th {\n",
       "        text-align: right;\n",
       "    }\n",
       "</style>\n",
       "<table border=\"1\" class=\"dataframe\">\n",
       "  <thead>\n",
       "    <tr style=\"text-align: right;\">\n",
       "      <th></th>\n",
       "      <th>reviews</th>\n",
       "    </tr>\n",
       "  </thead>\n",
       "  <tbody>\n",
       "    <tr>\n",
       "      <th>0</th>\n",
       "      <td>verified british airways confirmed worst airli...</td>\n",
       "    </tr>\n",
       "    <tr>\n",
       "      <th>1</th>\n",
       "      <td>worst ba experience supposed fly italy  septe...</td>\n",
       "    </tr>\n",
       "    <tr>\n",
       "      <th>2</th>\n",
       "      <td>daughter denied boarding business class fligh...</td>\n",
       "    </tr>\n",
       "    <tr>\n",
       "      <th>3</th>\n",
       "      <td>despite boarding usual free lhr groups  calle...</td>\n",
       "    </tr>\n",
       "    <tr>\n",
       "      <th>4</th>\n",
       "      <td>verified flight cancelled crew th september  p...</td>\n",
       "    </tr>\n",
       "  </tbody>\n",
       "</table>\n",
       "</div>"
      ],
      "text/plain": [
       "                                             reviews\n",
       "0  verified british airways confirmed worst airli...\n",
       "1   worst ba experience supposed fly italy  septe...\n",
       "2   daughter denied boarding business class fligh...\n",
       "3   despite boarding usual free lhr groups  calle...\n",
       "4  verified flight cancelled crew th september  p..."
      ]
     },
     "execution_count": 6,
     "metadata": {},
     "output_type": "execute_result"
    }
   ],
   "source": [
    "data.head()"
   ]
  },
  {
   "cell_type": "code",
   "execution_count": 7,
   "id": "eead6728",
   "metadata": {},
   "outputs": [],
   "source": [
    "import nltk\n",
    "from nltk.tokenize import word_tokenize"
   ]
  },
  {
   "cell_type": "code",
   "execution_count": 8,
   "id": "2a74ab5f",
   "metadata": {},
   "outputs": [],
   "source": [
    "df = pd.DataFrame(data)"
   ]
  },
  {
   "cell_type": "code",
   "execution_count": 9,
   "id": "db1a9358",
   "metadata": {},
   "outputs": [
    {
     "name": "stderr",
     "output_type": "stream",
     "text": [
      "[nltk_data] Downloading package punkt to\n",
      "[nltk_data]     C:\\Users\\bhavi\\AppData\\Roaming\\nltk_data...\n",
      "[nltk_data]   Unzipping tokenizers\\punkt.zip.\n"
     ]
    },
    {
     "data": {
      "text/plain": [
       "True"
      ]
     },
     "execution_count": 9,
     "metadata": {},
     "output_type": "execute_result"
    }
   ],
   "source": [
    "nltk.download('punkt')"
   ]
  },
  {
   "cell_type": "code",
   "execution_count": 10,
   "id": "a1a4dccd",
   "metadata": {},
   "outputs": [],
   "source": [
    "df['Tokens'] = df['reviews'].apply(lambda x:word_tokenize(x))"
   ]
  },
  {
   "cell_type": "code",
   "execution_count": 11,
   "id": "6f571415",
   "metadata": {},
   "outputs": [
    {
     "data": {
      "text/html": [
       "<div>\n",
       "<style scoped>\n",
       "    .dataframe tbody tr th:only-of-type {\n",
       "        vertical-align: middle;\n",
       "    }\n",
       "\n",
       "    .dataframe tbody tr th {\n",
       "        vertical-align: top;\n",
       "    }\n",
       "\n",
       "    .dataframe thead th {\n",
       "        text-align: right;\n",
       "    }\n",
       "</style>\n",
       "<table border=\"1\" class=\"dataframe\">\n",
       "  <thead>\n",
       "    <tr style=\"text-align: right;\">\n",
       "      <th></th>\n",
       "      <th>reviews</th>\n",
       "      <th>Tokens</th>\n",
       "    </tr>\n",
       "  </thead>\n",
       "  <tbody>\n",
       "    <tr>\n",
       "      <th>0</th>\n",
       "      <td>verified british airways confirmed worst airli...</td>\n",
       "      <td>[verified, british, airways, confirmed, worst,...</td>\n",
       "    </tr>\n",
       "    <tr>\n",
       "      <th>1</th>\n",
       "      <td>worst ba experience supposed fly italy  septe...</td>\n",
       "      <td>[worst, ba, experience, supposed, fly, italy, ...</td>\n",
       "    </tr>\n",
       "    <tr>\n",
       "      <th>2</th>\n",
       "      <td>daughter denied boarding business class fligh...</td>\n",
       "      <td>[daughter, denied, boarding, business, class, ...</td>\n",
       "    </tr>\n",
       "    <tr>\n",
       "      <th>3</th>\n",
       "      <td>despite boarding usual free lhr groups  calle...</td>\n",
       "      <td>[despite, boarding, usual, free, lhr, groups, ...</td>\n",
       "    </tr>\n",
       "    <tr>\n",
       "      <th>4</th>\n",
       "      <td>verified flight cancelled crew th september  p...</td>\n",
       "      <td>[verified, flight, cancelled, crew, th, septem...</td>\n",
       "    </tr>\n",
       "  </tbody>\n",
       "</table>\n",
       "</div>"
      ],
      "text/plain": [
       "                                             reviews  \\\n",
       "0  verified british airways confirmed worst airli...   \n",
       "1   worst ba experience supposed fly italy  septe...   \n",
       "2   daughter denied boarding business class fligh...   \n",
       "3   despite boarding usual free lhr groups  calle...   \n",
       "4  verified flight cancelled crew th september  p...   \n",
       "\n",
       "                                              Tokens  \n",
       "0  [verified, british, airways, confirmed, worst,...  \n",
       "1  [worst, ba, experience, supposed, fly, italy, ...  \n",
       "2  [daughter, denied, boarding, business, class, ...  \n",
       "3  [despite, boarding, usual, free, lhr, groups, ...  \n",
       "4  [verified, flight, cancelled, crew, th, septem...  "
      ]
     },
     "execution_count": 11,
     "metadata": {},
     "output_type": "execute_result"
    }
   ],
   "source": [
    "df.head()"
   ]
  },
  {
   "cell_type": "code",
   "execution_count": 15,
   "id": "69f29f23",
   "metadata": {},
   "outputs": [],
   "source": [
    "tokenized_data = df['Tokens']\n",
    "preprocessed_data = df['reviews']"
   ]
  },
  {
   "cell_type": "code",
   "execution_count": 16,
   "id": "ebea41da",
   "metadata": {},
   "outputs": [
    {
     "data": {
      "text/plain": [
       "(0    [verified, british, airways, confirmed, worst,...\n",
       " 1    [worst, ba, experience, supposed, fly, italy, ...\n",
       " 2    [daughter, denied, boarding, business, class, ...\n",
       " 3    [despite, boarding, usual, free, lhr, groups, ...\n",
       " 4    [verified, flight, cancelled, crew, th, septem...\n",
       " Name: Tokens, dtype: object,\n",
       " 0    verified british airways confirmed worst airli...\n",
       " 1     worst ba experience supposed fly italy  septe...\n",
       " 2     daughter denied boarding business class fligh...\n",
       " 3     despite boarding usual free lhr groups  calle...\n",
       " 4    verified flight cancelled crew th september  p...\n",
       " Name: reviews, dtype: object)"
      ]
     },
     "execution_count": 16,
     "metadata": {},
     "output_type": "execute_result"
    }
   ],
   "source": [
    "tokenized_data.head(), preprocessed_data.head()"
   ]
  },
  {
   "cell_type": "code",
   "execution_count": 17,
   "id": "65f52fa3",
   "metadata": {},
   "outputs": [],
   "source": [
    "tokenized_data.to_csv(\"data/toknized_data.csv\",  index=False,)\n",
    "preprocessed_data.to_csv(\"data/preprocessed_data.csv\",  index=False,)"
   ]
  },
  {
   "cell_type": "code",
   "execution_count": null,
   "id": "29649bf9",
   "metadata": {},
   "outputs": [],
   "source": []
  }
 ],
 "metadata": {
  "kernelspec": {
   "display_name": "Python 3 (ipykernel)",
   "language": "python",
   "name": "python3"
  },
  "language_info": {
   "codemirror_mode": {
    "name": "ipython",
    "version": 3
   },
   "file_extension": ".py",
   "mimetype": "text/x-python",
   "name": "python",
   "nbconvert_exporter": "python",
   "pygments_lexer": "ipython3",
   "version": "3.11.4"
  }
 },
 "nbformat": 4,
 "nbformat_minor": 5
}
